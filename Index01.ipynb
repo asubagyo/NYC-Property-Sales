{
 "cells": [
  {
   "cell_type": "code",
   "execution_count": 2,
   "metadata": {},
   "outputs": [],
   "source": [
    "import pandas as pd\n",
    "import numpy as np\n",
    "import matplotlib.pyplot as plt\n",
    "import seaborn as sns\n",
    "%matplotlib inline\n",
    "sns.set(style='white', context='notebook', palette='deep') \n",
    "import matplotlib.style as style\n",
    "style.use('fivethirtyeight')\n",
    "import warnings\n",
    "from sklearn.datasets import make_classification\n",
    "from sklearn.model_selection import GridSearchCV, train_test_split\n",
    "from sklearn.metrics import confusion_matrix\n",
    "from sklearn.linear_model import LogisticRegression\n",
    "from sklearn.ensemble import GradientBoostingClassifier\n",
    "\n",
    "from plotnine import *\n",
    "%matplotlib inline"
   ]
  },
  {
   "cell_type": "markdown",
   "metadata": {},
   "source": [
    "Load pre-processed Data from previous notebook - Index00"
   ]
  },
  {
   "cell_type": "code",
   "execution_count": 3,
   "metadata": {},
   "outputs": [
    {
     "name": "stdout",
     "output_type": "stream",
     "text": [
      "30144\n"
     ]
    },
    {
     "data": {
      "text/html": [
       "<div>\n",
       "<style scoped>\n",
       "    .dataframe tbody tr th:only-of-type {\n",
       "        vertical-align: middle;\n",
       "    }\n",
       "\n",
       "    .dataframe tbody tr th {\n",
       "        vertical-align: top;\n",
       "    }\n",
       "\n",
       "    .dataframe thead th {\n",
       "        text-align: right;\n",
       "    }\n",
       "</style>\n",
       "<table border=\"1\" class=\"dataframe\">\n",
       "  <thead>\n",
       "    <tr style=\"text-align: right;\">\n",
       "      <th></th>\n",
       "      <th>Unnamed: 0</th>\n",
       "      <th>BOROUGH</th>\n",
       "      <th>NEIGHBORHOOD</th>\n",
       "      <th>BUILDING CLASS CATEGORY</th>\n",
       "      <th>TAX CLASS AT PRESENT</th>\n",
       "      <th>BLOCK</th>\n",
       "      <th>LOT</th>\n",
       "      <th>BUILDING CLASS AT PRESENT</th>\n",
       "      <th>ADDRESS</th>\n",
       "      <th>APARTMENT NUMBER</th>\n",
       "      <th>...</th>\n",
       "      <th>TOTAL UNITS</th>\n",
       "      <th>LAND SQUARE FEET</th>\n",
       "      <th>GROSS SQUARE FEET</th>\n",
       "      <th>YEAR BUILT</th>\n",
       "      <th>TAX CLASS AT TIME OF SALE</th>\n",
       "      <th>BUILDING CLASS AT TIME OF SALE</th>\n",
       "      <th>SALE PRICE</th>\n",
       "      <th>SALE DATE</th>\n",
       "      <th>RESI</th>\n",
       "      <th>OVER1M</th>\n",
       "    </tr>\n",
       "  </thead>\n",
       "  <tbody>\n",
       "    <tr>\n",
       "      <th>0</th>\n",
       "      <td>222</td>\n",
       "      <td>Manhattan</td>\n",
       "      <td>CHELSEA</td>\n",
       "      <td>07 RENTALS - WALKUP APARTMENTS</td>\n",
       "      <td>2B</td>\n",
       "      <td>765</td>\n",
       "      <td>25</td>\n",
       "      <td>C4</td>\n",
       "      <td>219 WEST 15TH STREET</td>\n",
       "      <td></td>\n",
       "      <td>...</td>\n",
       "      <td>9</td>\n",
       "      <td>1566.0</td>\n",
       "      <td>6330.0</td>\n",
       "      <td>1901</td>\n",
       "      <td>2</td>\n",
       "      <td>C4</td>\n",
       "      <td>1583840.0</td>\n",
       "      <td>2017-08-31</td>\n",
       "      <td>1</td>\n",
       "      <td>1</td>\n",
       "    </tr>\n",
       "    <tr>\n",
       "      <th>1</th>\n",
       "      <td>223</td>\n",
       "      <td>Manhattan</td>\n",
       "      <td>CHELSEA</td>\n",
       "      <td>07 RENTALS - WALKUP APARTMENTS</td>\n",
       "      <td>2B</td>\n",
       "      <td>765</td>\n",
       "      <td>25</td>\n",
       "      <td>C4</td>\n",
       "      <td>219 WEST 15TH STREET</td>\n",
       "      <td></td>\n",
       "      <td>...</td>\n",
       "      <td>9</td>\n",
       "      <td>1566.0</td>\n",
       "      <td>6330.0</td>\n",
       "      <td>1901</td>\n",
       "      <td>2</td>\n",
       "      <td>C4</td>\n",
       "      <td>416790.0</td>\n",
       "      <td>2017-08-31</td>\n",
       "      <td>1</td>\n",
       "      <td>0</td>\n",
       "    </tr>\n",
       "    <tr>\n",
       "      <th>2</th>\n",
       "      <td>224</td>\n",
       "      <td>Manhattan</td>\n",
       "      <td>CHELSEA</td>\n",
       "      <td>07 RENTALS - WALKUP APARTMENTS</td>\n",
       "      <td>2B</td>\n",
       "      <td>765</td>\n",
       "      <td>25</td>\n",
       "      <td>C4</td>\n",
       "      <td>219 WEST 15TH STREET</td>\n",
       "      <td></td>\n",
       "      <td>...</td>\n",
       "      <td>9</td>\n",
       "      <td>1566.0</td>\n",
       "      <td>6330.0</td>\n",
       "      <td>1901</td>\n",
       "      <td>2</td>\n",
       "      <td>C4</td>\n",
       "      <td>630370.0</td>\n",
       "      <td>2017-08-31</td>\n",
       "      <td>1</td>\n",
       "      <td>0</td>\n",
       "    </tr>\n",
       "    <tr>\n",
       "      <th>3</th>\n",
       "      <td>239</td>\n",
       "      <td>Manhattan</td>\n",
       "      <td>CHELSEA</td>\n",
       "      <td>08 RENTALS - ELEVATOR APARTMENTS</td>\n",
       "      <td>2</td>\n",
       "      <td>794</td>\n",
       "      <td>11</td>\n",
       "      <td>D7</td>\n",
       "      <td>155 WEST 18TH</td>\n",
       "      <td></td>\n",
       "      <td>...</td>\n",
       "      <td>32</td>\n",
       "      <td>10053.0</td>\n",
       "      <td>78882.0</td>\n",
       "      <td>2014</td>\n",
       "      <td>2</td>\n",
       "      <td>D7</td>\n",
       "      <td>2341975.0</td>\n",
       "      <td>2016-10-28</td>\n",
       "      <td>1</td>\n",
       "      <td>1</td>\n",
       "    </tr>\n",
       "    <tr>\n",
       "      <th>4</th>\n",
       "      <td>277</td>\n",
       "      <td>Manhattan</td>\n",
       "      <td>CHELSEA</td>\n",
       "      <td>09 COOPS - WALKUP APARTMENTS</td>\n",
       "      <td>2</td>\n",
       "      <td>744</td>\n",
       "      <td>32</td>\n",
       "      <td>C6</td>\n",
       "      <td>309 WEST 20TH   STREET</td>\n",
       "      <td></td>\n",
       "      <td>...</td>\n",
       "      <td>24</td>\n",
       "      <td>4600.0</td>\n",
       "      <td>12200.0</td>\n",
       "      <td>1850</td>\n",
       "      <td>2</td>\n",
       "      <td>C6</td>\n",
       "      <td>282000.0</td>\n",
       "      <td>2016-10-19</td>\n",
       "      <td>1</td>\n",
       "      <td>0</td>\n",
       "    </tr>\n",
       "    <tr>\n",
       "      <th>5</th>\n",
       "      <td>2587</td>\n",
       "      <td>Manhattan</td>\n",
       "      <td>FLATIRON</td>\n",
       "      <td>08 RENTALS - ELEVATOR APARTMENTS</td>\n",
       "      <td>2</td>\n",
       "      <td>844</td>\n",
       "      <td>8</td>\n",
       "      <td>D6</td>\n",
       "      <td>9 EAST 16TH   STREET</td>\n",
       "      <td></td>\n",
       "      <td>...</td>\n",
       "      <td>16</td>\n",
       "      <td>4600.0</td>\n",
       "      <td>30680.0</td>\n",
       "      <td>1900</td>\n",
       "      <td>2</td>\n",
       "      <td>D6</td>\n",
       "      <td>489854.0</td>\n",
       "      <td>2017-01-27</td>\n",
       "      <td>1</td>\n",
       "      <td>0</td>\n",
       "    </tr>\n",
       "    <tr>\n",
       "      <th>6</th>\n",
       "      <td>2588</td>\n",
       "      <td>Manhattan</td>\n",
       "      <td>FLATIRON</td>\n",
       "      <td>08 RENTALS - ELEVATOR APARTMENTS</td>\n",
       "      <td>2</td>\n",
       "      <td>844</td>\n",
       "      <td>8</td>\n",
       "      <td>D6</td>\n",
       "      <td>9 EAST 16TH   STREET</td>\n",
       "      <td></td>\n",
       "      <td>...</td>\n",
       "      <td>16</td>\n",
       "      <td>4600.0</td>\n",
       "      <td>30680.0</td>\n",
       "      <td>1900</td>\n",
       "      <td>2</td>\n",
       "      <td>D6</td>\n",
       "      <td>576299.0</td>\n",
       "      <td>2017-01-27</td>\n",
       "      <td>1</td>\n",
       "      <td>0</td>\n",
       "    </tr>\n",
       "    <tr>\n",
       "      <th>7</th>\n",
       "      <td>4173</td>\n",
       "      <td>Manhattan</td>\n",
       "      <td>GREENWICH VILLAGE-WEST</td>\n",
       "      <td>01 ONE FAMILY DWELLINGS</td>\n",
       "      <td>1</td>\n",
       "      <td>585</td>\n",
       "      <td>69</td>\n",
       "      <td>A5</td>\n",
       "      <td>2 GROVE COURT</td>\n",
       "      <td></td>\n",
       "      <td>...</td>\n",
       "      <td>1</td>\n",
       "      <td>384.0</td>\n",
       "      <td>1152.0</td>\n",
       "      <td>1901</td>\n",
       "      <td>1</td>\n",
       "      <td>A5</td>\n",
       "      <td>1375000.0</td>\n",
       "      <td>2016-10-07</td>\n",
       "      <td>1</td>\n",
       "      <td>1</td>\n",
       "    </tr>\n",
       "    <tr>\n",
       "      <th>8</th>\n",
       "      <td>4199</td>\n",
       "      <td>Manhattan</td>\n",
       "      <td>GREENWICH VILLAGE-WEST</td>\n",
       "      <td>07 RENTALS - WALKUP APARTMENTS</td>\n",
       "      <td>2A</td>\n",
       "      <td>588</td>\n",
       "      <td>32</td>\n",
       "      <td>C2</td>\n",
       "      <td>38 BARROW STREET</td>\n",
       "      <td></td>\n",
       "      <td>...</td>\n",
       "      <td>5</td>\n",
       "      <td>2171.0</td>\n",
       "      <td>3524.0</td>\n",
       "      <td>1900</td>\n",
       "      <td>2</td>\n",
       "      <td>C2</td>\n",
       "      <td>313000.0</td>\n",
       "      <td>2017-05-23</td>\n",
       "      <td>1</td>\n",
       "      <td>0</td>\n",
       "    </tr>\n",
       "    <tr>\n",
       "      <th>9</th>\n",
       "      <td>4800</td>\n",
       "      <td>Manhattan</td>\n",
       "      <td>HARLEM-CENTRAL</td>\n",
       "      <td>01 ONE FAMILY DWELLINGS</td>\n",
       "      <td>1</td>\n",
       "      <td>1942</td>\n",
       "      <td>58</td>\n",
       "      <td>A4</td>\n",
       "      <td>288 W. 137TH STREET</td>\n",
       "      <td></td>\n",
       "      <td>...</td>\n",
       "      <td>1</td>\n",
       "      <td>1549.0</td>\n",
       "      <td>3036.0</td>\n",
       "      <td>1910</td>\n",
       "      <td>1</td>\n",
       "      <td>A4</td>\n",
       "      <td>2300000.0</td>\n",
       "      <td>2016-11-30</td>\n",
       "      <td>1</td>\n",
       "      <td>1</td>\n",
       "    </tr>\n",
       "  </tbody>\n",
       "</table>\n",
       "<p>10 rows × 23 columns</p>\n",
       "</div>"
      ],
      "text/plain": [
       "   Unnamed: 0    BOROUGH            NEIGHBORHOOD  \\\n",
       "0         222  Manhattan                 CHELSEA   \n",
       "1         223  Manhattan                 CHELSEA   \n",
       "2         224  Manhattan                 CHELSEA   \n",
       "3         239  Manhattan                 CHELSEA   \n",
       "4         277  Manhattan                 CHELSEA   \n",
       "5        2587  Manhattan                FLATIRON   \n",
       "6        2588  Manhattan                FLATIRON   \n",
       "7        4173  Manhattan  GREENWICH VILLAGE-WEST   \n",
       "8        4199  Manhattan  GREENWICH VILLAGE-WEST   \n",
       "9        4800  Manhattan          HARLEM-CENTRAL   \n",
       "\n",
       "                       BUILDING CLASS CATEGORY TAX CLASS AT PRESENT  BLOCK  \\\n",
       "0  07 RENTALS - WALKUP APARTMENTS                                2B    765   \n",
       "1  07 RENTALS - WALKUP APARTMENTS                                2B    765   \n",
       "2  07 RENTALS - WALKUP APARTMENTS                                2B    765   \n",
       "3  08 RENTALS - ELEVATOR APARTMENTS                               2    794   \n",
       "4  09 COOPS - WALKUP APARTMENTS                                   2    744   \n",
       "5  08 RENTALS - ELEVATOR APARTMENTS                               2    844   \n",
       "6  08 RENTALS - ELEVATOR APARTMENTS                               2    844   \n",
       "7  01 ONE FAMILY DWELLINGS                                        1    585   \n",
       "8  07 RENTALS - WALKUP APARTMENTS                                2A    588   \n",
       "9  01 ONE FAMILY DWELLINGS                                        1   1942   \n",
       "\n",
       "   LOT BUILDING CLASS AT PRESENT                 ADDRESS APARTMENT NUMBER  \\\n",
       "0   25                        C4    219 WEST 15TH STREET                    \n",
       "1   25                        C4    219 WEST 15TH STREET                    \n",
       "2   25                        C4    219 WEST 15TH STREET                    \n",
       "3   11                        D7           155 WEST 18TH                    \n",
       "4   32                        C6  309 WEST 20TH   STREET                    \n",
       "5    8                        D6    9 EAST 16TH   STREET                    \n",
       "6    8                        D6    9 EAST 16TH   STREET                    \n",
       "7   69                        A5           2 GROVE COURT                    \n",
       "8   32                        C2        38 BARROW STREET                    \n",
       "9   58                        A4     288 W. 137TH STREET                    \n",
       "\n",
       "    ...    TOTAL UNITS  LAND SQUARE FEET  GROSS SQUARE FEET  YEAR BUILT  \\\n",
       "0   ...              9            1566.0             6330.0        1901   \n",
       "1   ...              9            1566.0             6330.0        1901   \n",
       "2   ...              9            1566.0             6330.0        1901   \n",
       "3   ...             32           10053.0            78882.0        2014   \n",
       "4   ...             24            4600.0            12200.0        1850   \n",
       "5   ...             16            4600.0            30680.0        1900   \n",
       "6   ...             16            4600.0            30680.0        1900   \n",
       "7   ...              1             384.0             1152.0        1901   \n",
       "8   ...              5            2171.0             3524.0        1900   \n",
       "9   ...              1            1549.0             3036.0        1910   \n",
       "\n",
       "   TAX CLASS AT TIME OF SALE  BUILDING CLASS AT TIME OF SALE  SALE PRICE  \\\n",
       "0                          2                              C4   1583840.0   \n",
       "1                          2                              C4    416790.0   \n",
       "2                          2                              C4    630370.0   \n",
       "3                          2                              D7   2341975.0   \n",
       "4                          2                              C6    282000.0   \n",
       "5                          2                              D6    489854.0   \n",
       "6                          2                              D6    576299.0   \n",
       "7                          1                              A5   1375000.0   \n",
       "8                          2                              C2    313000.0   \n",
       "9                          1                              A4   2300000.0   \n",
       "\n",
       "    SALE DATE RESI  OVER1M  \n",
       "0  2017-08-31    1       1  \n",
       "1  2017-08-31    1       0  \n",
       "2  2017-08-31    1       0  \n",
       "3  2016-10-28    1       1  \n",
       "4  2016-10-19    1       0  \n",
       "5  2017-01-27    1       0  \n",
       "6  2017-01-27    1       0  \n",
       "7  2016-10-07    1       1  \n",
       "8  2017-05-23    1       0  \n",
       "9  2016-11-30    1       1  \n",
       "\n",
       "[10 rows x 23 columns]"
      ]
     },
     "execution_count": 3,
     "metadata": {},
     "output_type": "execute_result"
    }
   ],
   "source": [
    "df5 = pd.read_csv('df5.csv')\n",
    "print(len(df5))\n",
    "df5.head(10)"
   ]
  },
  {
   "cell_type": "markdown",
   "metadata": {},
   "source": [
    "Would like to count number of data available on every borough to make us aware the data availability. \n",
    "Apparently a lot of data from Manhattan has been shaved off due to the criteria we established (price range -- 100k - 4m, squarefootage -- < 20,000, etc)"
   ]
  },
  {
   "cell_type": "code",
   "execution_count": 4,
   "metadata": {
    "scrolled": false
   },
   "outputs": [
    {
     "data": {
      "text/html": [
       "<div>\n",
       "<style scoped>\n",
       "    .dataframe tbody tr th:only-of-type {\n",
       "        vertical-align: middle;\n",
       "    }\n",
       "\n",
       "    .dataframe tbody tr th {\n",
       "        vertical-align: top;\n",
       "    }\n",
       "\n",
       "    .dataframe thead th {\n",
       "        text-align: right;\n",
       "    }\n",
       "</style>\n",
       "<table border=\"1\" class=\"dataframe\">\n",
       "  <thead>\n",
       "    <tr style=\"text-align: right;\">\n",
       "      <th></th>\n",
       "      <th>Unnamed: 0</th>\n",
       "      <th>NEIGHBORHOOD</th>\n",
       "      <th>BUILDING CLASS CATEGORY</th>\n",
       "      <th>TAX CLASS AT PRESENT</th>\n",
       "      <th>BLOCK</th>\n",
       "      <th>LOT</th>\n",
       "      <th>BUILDING CLASS AT PRESENT</th>\n",
       "      <th>ADDRESS</th>\n",
       "      <th>APARTMENT NUMBER</th>\n",
       "      <th>ZIP CODE</th>\n",
       "      <th>...</th>\n",
       "      <th>TOTAL UNITS</th>\n",
       "      <th>LAND SQUARE FEET</th>\n",
       "      <th>GROSS SQUARE FEET</th>\n",
       "      <th>YEAR BUILT</th>\n",
       "      <th>TAX CLASS AT TIME OF SALE</th>\n",
       "      <th>BUILDING CLASS AT TIME OF SALE</th>\n",
       "      <th>SALE PRICE</th>\n",
       "      <th>SALE DATE</th>\n",
       "      <th>RESI</th>\n",
       "      <th>OVER1M</th>\n",
       "    </tr>\n",
       "    <tr>\n",
       "      <th>BOROUGH</th>\n",
       "      <th></th>\n",
       "      <th></th>\n",
       "      <th></th>\n",
       "      <th></th>\n",
       "      <th></th>\n",
       "      <th></th>\n",
       "      <th></th>\n",
       "      <th></th>\n",
       "      <th></th>\n",
       "      <th></th>\n",
       "      <th></th>\n",
       "      <th></th>\n",
       "      <th></th>\n",
       "      <th></th>\n",
       "      <th></th>\n",
       "      <th></th>\n",
       "      <th></th>\n",
       "      <th></th>\n",
       "      <th></th>\n",
       "      <th></th>\n",
       "      <th></th>\n",
       "    </tr>\n",
       "  </thead>\n",
       "  <tbody>\n",
       "    <tr>\n",
       "      <th>Bronx</th>\n",
       "      <td>3561</td>\n",
       "      <td>3561</td>\n",
       "      <td>3561</td>\n",
       "      <td>3561</td>\n",
       "      <td>3561</td>\n",
       "      <td>3561</td>\n",
       "      <td>3561</td>\n",
       "      <td>3561</td>\n",
       "      <td>3561</td>\n",
       "      <td>3561</td>\n",
       "      <td>...</td>\n",
       "      <td>3561</td>\n",
       "      <td>3561</td>\n",
       "      <td>3561</td>\n",
       "      <td>3561</td>\n",
       "      <td>3561</td>\n",
       "      <td>3561</td>\n",
       "      <td>3561</td>\n",
       "      <td>3561</td>\n",
       "      <td>3561</td>\n",
       "      <td>3561</td>\n",
       "    </tr>\n",
       "    <tr>\n",
       "      <th>Brooklyn</th>\n",
       "      <td>11221</td>\n",
       "      <td>11221</td>\n",
       "      <td>11221</td>\n",
       "      <td>11221</td>\n",
       "      <td>11221</td>\n",
       "      <td>11221</td>\n",
       "      <td>11221</td>\n",
       "      <td>11221</td>\n",
       "      <td>11221</td>\n",
       "      <td>11221</td>\n",
       "      <td>...</td>\n",
       "      <td>11221</td>\n",
       "      <td>11221</td>\n",
       "      <td>11221</td>\n",
       "      <td>11221</td>\n",
       "      <td>11221</td>\n",
       "      <td>11221</td>\n",
       "      <td>11221</td>\n",
       "      <td>11221</td>\n",
       "      <td>11221</td>\n",
       "      <td>11221</td>\n",
       "    </tr>\n",
       "    <tr>\n",
       "      <th>Manhattan</th>\n",
       "      <td>204</td>\n",
       "      <td>204</td>\n",
       "      <td>204</td>\n",
       "      <td>204</td>\n",
       "      <td>204</td>\n",
       "      <td>204</td>\n",
       "      <td>204</td>\n",
       "      <td>204</td>\n",
       "      <td>204</td>\n",
       "      <td>204</td>\n",
       "      <td>...</td>\n",
       "      <td>204</td>\n",
       "      <td>204</td>\n",
       "      <td>204</td>\n",
       "      <td>204</td>\n",
       "      <td>204</td>\n",
       "      <td>204</td>\n",
       "      <td>204</td>\n",
       "      <td>204</td>\n",
       "      <td>204</td>\n",
       "      <td>204</td>\n",
       "    </tr>\n",
       "    <tr>\n",
       "      <th>Queens</th>\n",
       "      <td>10367</td>\n",
       "      <td>10367</td>\n",
       "      <td>10367</td>\n",
       "      <td>10367</td>\n",
       "      <td>10367</td>\n",
       "      <td>10367</td>\n",
       "      <td>10367</td>\n",
       "      <td>10367</td>\n",
       "      <td>10367</td>\n",
       "      <td>10367</td>\n",
       "      <td>...</td>\n",
       "      <td>10367</td>\n",
       "      <td>10367</td>\n",
       "      <td>10367</td>\n",
       "      <td>10367</td>\n",
       "      <td>10367</td>\n",
       "      <td>10367</td>\n",
       "      <td>10367</td>\n",
       "      <td>10367</td>\n",
       "      <td>10367</td>\n",
       "      <td>10367</td>\n",
       "    </tr>\n",
       "    <tr>\n",
       "      <th>Staten Island</th>\n",
       "      <td>4791</td>\n",
       "      <td>4791</td>\n",
       "      <td>4791</td>\n",
       "      <td>4791</td>\n",
       "      <td>4791</td>\n",
       "      <td>4791</td>\n",
       "      <td>4791</td>\n",
       "      <td>4791</td>\n",
       "      <td>4791</td>\n",
       "      <td>4791</td>\n",
       "      <td>...</td>\n",
       "      <td>4791</td>\n",
       "      <td>4791</td>\n",
       "      <td>4791</td>\n",
       "      <td>4791</td>\n",
       "      <td>4791</td>\n",
       "      <td>4791</td>\n",
       "      <td>4791</td>\n",
       "      <td>4791</td>\n",
       "      <td>4791</td>\n",
       "      <td>4791</td>\n",
       "    </tr>\n",
       "  </tbody>\n",
       "</table>\n",
       "<p>5 rows × 22 columns</p>\n",
       "</div>"
      ],
      "text/plain": [
       "               Unnamed: 0  NEIGHBORHOOD  BUILDING CLASS CATEGORY  \\\n",
       "BOROUGH                                                            \n",
       "Bronx                3561          3561                     3561   \n",
       "Brooklyn            11221         11221                    11221   \n",
       "Manhattan             204           204                      204   \n",
       "Queens              10367         10367                    10367   \n",
       "Staten Island        4791          4791                     4791   \n",
       "\n",
       "               TAX CLASS AT PRESENT  BLOCK    LOT  BUILDING CLASS AT PRESENT  \\\n",
       "BOROUGH                                                                        \n",
       "Bronx                          3561   3561   3561                       3561   \n",
       "Brooklyn                      11221  11221  11221                      11221   \n",
       "Manhattan                       204    204    204                        204   \n",
       "Queens                        10367  10367  10367                      10367   \n",
       "Staten Island                  4791   4791   4791                       4791   \n",
       "\n",
       "               ADDRESS  APARTMENT NUMBER  ZIP CODE   ...    TOTAL UNITS  \\\n",
       "BOROUGH                                              ...                  \n",
       "Bronx             3561              3561      3561   ...           3561   \n",
       "Brooklyn         11221             11221     11221   ...          11221   \n",
       "Manhattan          204               204       204   ...            204   \n",
       "Queens           10367             10367     10367   ...          10367   \n",
       "Staten Island     4791              4791      4791   ...           4791   \n",
       "\n",
       "               LAND SQUARE FEET  GROSS SQUARE FEET  YEAR BUILT  \\\n",
       "BOROUGH                                                          \n",
       "Bronx                      3561               3561        3561   \n",
       "Brooklyn                  11221              11221       11221   \n",
       "Manhattan                   204                204         204   \n",
       "Queens                    10367              10367       10367   \n",
       "Staten Island              4791               4791        4791   \n",
       "\n",
       "               TAX CLASS AT TIME OF SALE  BUILDING CLASS AT TIME OF SALE  \\\n",
       "BOROUGH                                                                    \n",
       "Bronx                               3561                            3561   \n",
       "Brooklyn                           11221                           11221   \n",
       "Manhattan                            204                             204   \n",
       "Queens                             10367                           10367   \n",
       "Staten Island                       4791                            4791   \n",
       "\n",
       "               SALE PRICE  SALE DATE   RESI  OVER1M  \n",
       "BOROUGH                                              \n",
       "Bronx                3561       3561   3561    3561  \n",
       "Brooklyn            11221      11221  11221   11221  \n",
       "Manhattan             204        204    204     204  \n",
       "Queens              10367      10367  10367   10367  \n",
       "Staten Island        4791       4791   4791    4791  \n",
       "\n",
       "[5 rows x 22 columns]"
      ]
     },
     "execution_count": 4,
     "metadata": {},
     "output_type": "execute_result"
    }
   ],
   "source": [
    "df5.groupby('BOROUGH').count()"
   ]
  },
  {
   "cell_type": "code",
   "execution_count": 6,
   "metadata": {},
   "outputs": [],
   "source": [
    "from patsy import dmatrices"
   ]
  },
  {
   "cell_type": "code",
   "execution_count": 7,
   "metadata": {},
   "outputs": [],
   "source": [
    "def plot_confusion_matrix(cm, normalize=True, digits=4):\n",
    "    plt_df = (pd.DataFrame(cm)\n",
    "              .reset_index()\n",
    "              .melt(id_vars='index')\n",
    "              .assign(index = lambda d: pd.Categorical(d['index'], d['index'].unique()[::-1], ordered=True),\n",
    "                      variable = lambda d: pd.Categorical(d['variable'], d['variable'].unique(), ordered=True))\n",
    "              .rename(columns={'index':'true label', 'variable':'predicted label'})\n",
    "             )\n",
    "    \n",
    "    if normalize:\n",
    "        plt_df = (plt_df\n",
    "                  .assign(true_total = lambda d: d.groupby('true label')['value'].transform(lambda x: x.sum()))\n",
    "                  .assign(value = lambda d: (d['value'] / d['true_total']).round(digits))\n",
    "                 )\n",
    "        \n",
    "    plt = (ggplot(plt_df, aes(x='predicted label', y='true label'))\n",
    "            + geom_tile(aes(fill='value')) \n",
    "            + geom_text(aes(label='value'))\n",
    "            + theme_minimal()\n",
    "            + scale_fill_gradient(low = \"snow\", high = \"steelblue\")\n",
    "            + theme(legend_title=element_blank())\n",
    "           )\n",
    "    \n",
    "    return plt"
   ]
  },
  {
   "cell_type": "markdown",
   "metadata": {},
   "source": [
    "Train Test Split is done without Borough in mind at the moment (without imposing dummy variable to the model)"
   ]
  },
  {
   "cell_type": "code",
   "execution_count": 15,
   "metadata": {},
   "outputs": [
    {
     "name": "stdout",
     "output_type": "stream",
     "text": [
      "22608 7536 22608 7536\n"
     ]
    }
   ],
   "source": [
    "from sklearn.model_selection import train_test_split\n",
    "#Define X and y\n",
    "X = df5[['YEAR BUILT', 'TOTAL UNITS', 'RESIDENTIAL UNITS', 'COMMERCIAL UNITS'\n",
    "           ]] #features we think may help predict y\n",
    "y = df5['OVER1M'] #what we want to predict\n",
    "\n",
    "X_tr, X_te, y_tr, y_te = train_test_split(X, y, random_state = 0)\n",
    "#A brief preview of our train test split\n",
    "print(len(X_tr), len(X_te), len(y_tr), len(y_te))\n"
   ]
  },
  {
   "cell_type": "code",
   "execution_count": 16,
   "metadata": {},
   "outputs": [],
   "source": [
    "X_tr, X_te, y_tr, y_te = train_test_split(X, y, test_size=0.25, random_state=0)"
   ]
  },
  {
   "cell_type": "markdown",
   "metadata": {},
   "source": [
    "# Logistic Regression"
   ]
  },
  {
   "cell_type": "code",
   "execution_count": 17,
   "metadata": {},
   "outputs": [
    {
     "name": "stdout",
     "output_type": "stream",
     "text": [
      "CPU times: user 31 s, sys: 912 ms, total: 31.9 s\n",
      "Wall time: 8.33 s\n"
     ]
    }
   ],
   "source": [
    "%%time\n",
    "params = {\n",
    "    'C': np.logspace(-2, 2, num=10)\n",
    "}\n",
    "\n",
    "mod = LogisticRegression(multi_class='multinomial', solver='lbfgs')\n",
    "gscv = GridSearchCV(mod, params, cv=5, refit=True, return_train_score=True)\n",
    "with warnings.catch_warnings():\n",
    "    warnings.simplefilter('ignore')\n",
    "    gscv.fit(X_tr, y_tr)"
   ]
  },
  {
   "cell_type": "code",
   "execution_count": 18,
   "metadata": {},
   "outputs": [
    {
     "name": "stdout",
     "output_type": "stream",
     "text": [
      "LogisticRegression(C=0.027825594022071243, class_weight=None, dual=False,\n",
      "          fit_intercept=True, intercept_scaling=1, max_iter=100,\n",
      "          multi_class='multinomial', n_jobs=1, penalty='l2',\n",
      "          random_state=None, solver='lbfgs', tol=0.0001, verbose=0,\n",
      "          warm_start=False)\n",
      "Train score: 0.8181948802738672\n",
      "Test score: 0.8182501769285209\n"
     ]
    }
   ],
   "source": [
    "print(gscv.best_estimator_)\n",
    "cv_results = pd.DataFrame(gscv.cv_results_)\n",
    "print('Train score:', cv_results.loc[lambda d: d['rank_test_score'] == 1, 'mean_train_score'].values[0])\n",
    "print('Test score:', cv_results.loc[lambda d: d['rank_test_score'] == 1, 'mean_test_score'].values[0])"
   ]
  },
  {
   "cell_type": "markdown",
   "metadata": {},
   "source": [
    "Data Input (Train)"
   ]
  },
  {
   "cell_type": "code",
   "execution_count": 19,
   "metadata": {
    "scrolled": false
   },
   "outputs": [
    {
     "name": "stderr",
     "output_type": "stream",
     "text": [
      "/Users/adriansubagyo/anaconda3/lib/python3.6/site-packages/plotnine/utils.py:281: FutureWarning: Method .as_matrix will be removed in a future version. Use .values instead.\n",
      "  ndistinct = ids.apply(len_unique, axis=0).as_matrix()\n",
      "/Users/adriansubagyo/anaconda3/lib/python3.6/site-packages/pandas/core/generic.py:4384: FutureWarning: Attribute 'is_copy' is deprecated and will be removed in a future version.\n",
      "  object.__getattribute__(self, name)\n",
      "/Users/adriansubagyo/anaconda3/lib/python3.6/site-packages/pandas/core/generic.py:4385: FutureWarning: Attribute 'is_copy' is deprecated and will be removed in a future version.\n",
      "  return object.__setattr__(self, name, value)\n"
     ]
    },
    {
     "data": {
      "image/png": "[encoded data removed]",
      "text/plain": [
       "<Figure size 640x480 with 1 Axes>"
      ]
     },
     "metadata": {},
     "output_type": "display_data"
    },
    {
     "data": {
      "text/plain": [
       "<ggplot: (7529516380)>"
      ]
     },
     "execution_count": 19,
     "metadata": {},
     "output_type": "execute_result"
    }
   ],
   "source": [
    "pred = gscv.best_estimator_.predict(X_tr)\n",
    "cm = confusion_matrix(y_tr, pred)\n",
    "plot_confusion_matrix(cm, normalize=False)"
   ]
  },
  {
   "cell_type": "markdown",
   "metadata": {},
   "source": [
    "Data Input (Test): to indicate precision of our model predictability. \n"
   ]
  },
  {
   "cell_type": "markdown",
   "metadata": {},
   "source": [
    "\"< 1M prediction would get 82% correct\" and 68% for\" >1M prediction.\""
   ]
  },
  {
   "cell_type": "code",
   "execution_count": 20,
   "metadata": {},
   "outputs": [
    {
     "name": "stderr",
     "output_type": "stream",
     "text": [
      "/Users/adriansubagyo/anaconda3/lib/python3.6/site-packages/plotnine/utils.py:281: FutureWarning: Method .as_matrix will be removed in a future version. Use .values instead.\n",
      "  ndistinct = ids.apply(len_unique, axis=0).as_matrix()\n",
      "/Users/adriansubagyo/anaconda3/lib/python3.6/site-packages/pandas/core/generic.py:4384: FutureWarning: Attribute 'is_copy' is deprecated and will be removed in a future version.\n",
      "  object.__getattribute__(self, name)\n",
      "/Users/adriansubagyo/anaconda3/lib/python3.6/site-packages/pandas/core/generic.py:4385: FutureWarning: Attribute 'is_copy' is deprecated and will be removed in a future version.\n",
      "  return object.__setattr__(self, name, value)\n"
     ]
    },
    {
     "data": {
      "image/png": "[encoded data removed]",
      "text/plain": [
       "<Figure size 640x480 with 1 Axes>"
      ]
     },
     "metadata": {},
     "output_type": "display_data"
    },
    {
     "data": {
      "text/plain": [
       "<ggplot: (7530615416)>"
      ]
     },
     "execution_count": 20,
     "metadata": {},
     "output_type": "execute_result"
    }
   ],
   "source": [
    "pred = gscv.best_estimator_.predict(X_te)\n",
    "cm = confusion_matrix(y_te, pred)\n",
    "plot_confusion_matrix(cm, normalize=False)"
   ]
  },
  {
   "cell_type": "markdown",
   "metadata": {},
   "source": [
    "# Dummy Variables "
   ]
  },
  {
   "cell_type": "code",
   "execution_count": 21,
   "metadata": {},
   "outputs": [],
   "source": [
    "# to put Borough into account, we have to use dummy variables"
   ]
  },
  {
   "cell_type": "markdown",
   "metadata": {},
   "source": [
    "Borough, Land sqft, Gross sqft, total units into account"
   ]
  },
  {
   "cell_type": "code",
   "execution_count": 22,
   "metadata": {},
   "outputs": [],
   "source": [
    "y, X = dmatrices('OVER1M ~ 0 + BOROUGH + Q(\"LAND SQUARE FEET\") + Q(\"GROSS SQUARE FEET\") + Q(\"TOTAL UNITS\")',\n",
    "                df5, return_type = \"dataframe\")"
   ]
  },
  {
   "cell_type": "code",
   "execution_count": 23,
   "metadata": {},
   "outputs": [
    {
     "data": {
      "text/plain": [
       "Index(['BOROUGH[Bronx]', 'BOROUGH[Brooklyn]', 'BOROUGH[Manhattan]',\n",
       "       'BOROUGH[Queens]', 'BOROUGH[Staten Island]', 'Q(\"LAND SQUARE FEET\")',\n",
       "       'Q(\"GROSS SQUARE FEET\")', 'Q(\"TOTAL UNITS\")'],\n",
       "      dtype='object')"
      ]
     },
     "execution_count": 23,
     "metadata": {},
     "output_type": "execute_result"
    }
   ],
   "source": [
    "X.columns"
   ]
  },
  {
   "cell_type": "code",
   "execution_count": 24,
   "metadata": {
    "scrolled": true
   },
   "outputs": [
    {
     "name": "stdout",
     "output_type": "stream",
     "text": [
      "22608 7536 22608 7536\n"
     ]
    },
    {
     "data": {
      "text/plain": [
       "(22608, 8)"
      ]
     },
     "execution_count": 24,
     "metadata": {},
     "output_type": "execute_result"
    }
   ],
   "source": [
    "X_tr, X_te, y_tr, y_te = train_test_split(X, y, random_state = 0)\n",
    "#A brief preview of our train test split\n",
    "print(len(X_tr), len(X_te), len(y_tr), len(y_te))\n",
    "X_tr.shape"
   ]
  },
  {
   "cell_type": "code",
   "execution_count": null,
   "metadata": {},
   "outputs": [],
   "source": [
    "# for boro in ['BOROUGH[T.Brooklyn]', 'BOROUGH[T.Manhattan]',\n",
    "#        'BOROUGH[T.Queens]', 'BOROUGH[T.Staten Island]']:\n",
    "#     print(boro, len(X_tr[X_tr[boro] == 1]))\n",
    "    \n",
    "# from functools import reduce\n",
    "\n",
    "# bronx = X_tr[reduce(\n",
    "#     # Reducer function\n",
    "#     (lambda x, y: x & y),\n",
    "#     # Input to reduce\n",
    "#     [X_tr[boro] == 0 for boro in ['BOROUGH[T.Brooklyn]', 'BOROUGH[T.Manhattan]',\n",
    "#        'BOROUGH[T.Queens]', 'BOROUGH[T.Staten Island]']])]\n",
    "# print('Bronx', len(bronx))"
   ]
  },
  {
   "cell_type": "code",
   "execution_count": 25,
   "metadata": {},
   "outputs": [
    {
     "name": "stdout",
     "output_type": "stream",
     "text": [
      "CPU times: user 47.8 s, sys: 1.29 s, total: 49.1 s\n",
      "Wall time: 12.4 s\n"
     ]
    }
   ],
   "source": [
    "%%time\n",
    "params = {\n",
    "    'C': np.logspace(-2, 2, num=10)\n",
    "}\n",
    "\n",
    "mod = LogisticRegression(multi_class='multinomial', solver='lbfgs')\n",
    "gscv = GridSearchCV(mod, params, cv=5, refit=True, return_train_score=True)\n",
    "with warnings.catch_warnings():\n",
    "    warnings.simplefilter('ignore')\n",
    "    gscv.fit(X_tr, y_tr)"
   ]
  },
  {
   "cell_type": "code",
   "execution_count": 26,
   "metadata": {},
   "outputs": [
    {
     "name": "stdout",
     "output_type": "stream",
     "text": [
      "LogisticRegression(C=0.5994842503189409, class_weight=None, dual=False,\n",
      "          fit_intercept=True, intercept_scaling=1, max_iter=100,\n",
      "          multi_class='multinomial', n_jobs=1, penalty='l2',\n",
      "          random_state=None, solver='lbfgs', tol=0.0001, verbose=0,\n",
      "          warm_start=False)\n",
      "Train score: 0.8241551919846095\n",
      "Test score: 0.8243984430290163\n"
     ]
    }
   ],
   "source": [
    "print(gscv.best_estimator_)\n",
    "cv_results = pd.DataFrame(gscv.cv_results_)\n",
    "print('Train score:', cv_results.loc[lambda d: d['rank_test_score'] == 1, 'mean_train_score'].values[0])\n",
    "print('Test score:', cv_results.loc[lambda d: d['rank_test_score'] == 1, 'mean_test_score'].values[0])"
   ]
  },
  {
   "cell_type": "markdown",
   "metadata": {},
   "source": [
    "Increase in Train and test score, to indicate model is more accurate"
   ]
  },
  {
   "cell_type": "code",
   "execution_count": 27,
   "metadata": {
    "scrolled": false
   },
   "outputs": [
    {
     "name": "stderr",
     "output_type": "stream",
     "text": [
      "/Users/adriansubagyo/anaconda3/lib/python3.6/site-packages/plotnine/utils.py:281: FutureWarning: Method .as_matrix will be removed in a future version. Use .values instead.\n",
      "  ndistinct = ids.apply(len_unique, axis=0).as_matrix()\n",
      "/Users/adriansubagyo/anaconda3/lib/python3.6/site-packages/pandas/core/generic.py:4384: FutureWarning: Attribute 'is_copy' is deprecated and will be removed in a future version.\n",
      "  object.__getattribute__(self, name)\n",
      "/Users/adriansubagyo/anaconda3/lib/python3.6/site-packages/pandas/core/generic.py:4385: FutureWarning: Attribute 'is_copy' is deprecated and will be removed in a future version.\n",
      "  return object.__setattr__(self, name, value)\n"
     ]
    },
    {
     "data": {
      "image/png": "[encoded data removed]",
      "text/plain": [
       "<Figure size 640x480 with 1 Axes>"
      ]
     },
     "metadata": {},
     "output_type": "display_data"
    },
    {
     "data": {
      "text/plain": [
       "<ggplot: (7530775893)>"
      ]
     },
     "execution_count": 27,
     "metadata": {},
     "output_type": "execute_result"
    }
   ],
   "source": [
    "pred = gscv.best_estimator_.predict(X_te)\n",
    "cm = confusion_matrix(y_te, pred)\n",
    "plot_confusion_matrix(cm, normalize=False)"
   ]
  },
  {
   "cell_type": "markdown",
   "metadata": {},
   "source": [
    "This model is more accurate as if putting Borough into account.\n",
    "\"< 1M prediction would get 83% correct\" and 60% for\" >1M prediction.\" "
   ]
  },
  {
   "cell_type": "markdown",
   "metadata": {},
   "source": [
    "# Gradient Boosting"
   ]
  },
  {
   "cell_type": "code",
   "execution_count": 28,
   "metadata": {},
   "outputs": [
    {
     "name": "stdout",
     "output_type": "stream",
     "text": [
      "CPU times: user 1min 35s, sys: 641 ms, total: 1min 36s\n",
      "Wall time: 1min 36s\n"
     ]
    }
   ],
   "source": [
    "%%time\n",
    "params = { \n",
    "    'n_estimators': [50, 100],\n",
    "    'subsample': [0.25, 0.50],\n",
    "    'max_depth' : [2, 4],\n",
    "    'min_samples_split': [50, 100],\n",
    "    'min_samples_leaf': [50, 100]\n",
    "}\n",
    "\n",
    "mod = GradientBoostingClassifier()\n",
    "gscv = GridSearchCV(mod, params, cv=5, refit=True, return_train_score=True)\n",
    "with warnings.catch_warnings():\n",
    "    warnings.simplefilter('ignore')\n",
    "    gscv.fit(X_tr, y_tr)"
   ]
  },
  {
   "cell_type": "code",
   "execution_count": 29,
   "metadata": {},
   "outputs": [
    {
     "name": "stdout",
     "output_type": "stream",
     "text": [
      "GradientBoostingClassifier(criterion='friedman_mse', init=None,\n",
      "              learning_rate=0.1, loss='deviance', max_depth=4,\n",
      "              max_features=None, max_leaf_nodes=None,\n",
      "              min_impurity_decrease=0.0, min_impurity_split=None,\n",
      "              min_samples_leaf=100, min_samples_split=100,\n",
      "              min_weight_fraction_leaf=0.0, n_estimators=100,\n",
      "              presort='auto', random_state=None, subsample=0.5, verbose=0,\n",
      "              warm_start=False)\n",
      "Train score: 0.845939513076674\n",
      "Test score: 0.8396142958244869\n"
     ]
    }
   ],
   "source": [
    "print(gscv.best_estimator_)\n",
    "cv_results = pd.DataFrame(gscv.cv_results_)\n",
    "print('Train score:', cv_results.loc[lambda d: d['rank_test_score'] == 1, 'mean_train_score'].values[0])\n",
    "print('Test score:', cv_results.loc[lambda d: d['rank_test_score'] == 1, 'mean_test_score'].values[0])"
   ]
  },
  {
   "cell_type": "markdown",
   "metadata": {},
   "source": [
    "Increase in Train and test score, to indicate model is more accurate"
   ]
  },
  {
   "cell_type": "code",
   "execution_count": 30,
   "metadata": {},
   "outputs": [
    {
     "name": "stderr",
     "output_type": "stream",
     "text": [
      "/Users/adriansubagyo/anaconda3/lib/python3.6/site-packages/plotnine/utils.py:281: FutureWarning: Method .as_matrix will be removed in a future version. Use .values instead.\n",
      "  ndistinct = ids.apply(len_unique, axis=0).as_matrix()\n",
      "/Users/adriansubagyo/anaconda3/lib/python3.6/site-packages/pandas/core/generic.py:4384: FutureWarning: Attribute 'is_copy' is deprecated and will be removed in a future version.\n",
      "  object.__getattribute__(self, name)\n",
      "/Users/adriansubagyo/anaconda3/lib/python3.6/site-packages/pandas/core/generic.py:4385: FutureWarning: Attribute 'is_copy' is deprecated and will be removed in a future version.\n",
      "  return object.__setattr__(self, name, value)\n"
     ]
    },
    {
     "data": {
      "image/png": "[encoded data removed]",
      "text/plain": [
       "<Figure size 640x480 with 1 Axes>"
      ]
     },
     "metadata": {},
     "output_type": "display_data"
    },
    {
     "data": {
      "text/plain": [
       "<ggplot: (7529621347)>"
      ]
     },
     "execution_count": 30,
     "metadata": {},
     "output_type": "execute_result"
    }
   ],
   "source": [
    "pred = gscv.best_estimator_.predict(X_te)\n",
    "cm = confusion_matrix(y_te, pred)\n",
    "plot_confusion_matrix(cm, normalize=False)"
   ]
  },
  {
   "cell_type": "markdown",
   "metadata": {},
   "source": [
    "Borough "
   ]
  },
  {
   "cell_type": "code",
   "execution_count": 43,
   "metadata": {},
   "outputs": [],
   "source": [
    "y, X = dmatrices('OVER1M ~ 0 + BOROUGH + Q(\"LAND SQUARE FEET\") + Q(\"GROSS SQUARE FEET\") + RESI',\n",
    "                df5, return_type = \"dataframe\")"
   ]
  },
  {
   "cell_type": "code",
   "execution_count": 45,
   "metadata": {},
   "outputs": [
    {
     "name": "stdout",
     "output_type": "stream",
     "text": [
      "CPU times: user 1min 37s, sys: 580 ms, total: 1min 37s\n",
      "Wall time: 1min 38s\n"
     ]
    }
   ],
   "source": [
    "%%time\n",
    "params = { \n",
    "    'n_estimators': [50, 100],\n",
    "    'subsample': [0.25, 0.50],\n",
    "    'max_depth' : [2, 4],\n",
    "    'min_samples_split': [50, 100],\n",
    "    'min_samples_leaf': [50, 100]\n",
    "}\n",
    "\n",
    "mod = GradientBoostingClassifier()\n",
    "gscv = GridSearchCV(mod, params, cv=5, refit=True, return_train_score=True)\n",
    "with warnings.catch_warnings():\n",
    "    warnings.simplefilter('ignore')\n",
    "    gscv.fit(X_tr, y_tr)"
   ]
  },
  {
   "cell_type": "code",
   "execution_count": 33,
   "metadata": {},
   "outputs": [
    {
     "name": "stdout",
     "output_type": "stream",
     "text": [
      "GradientBoostingClassifier(criterion='friedman_mse', init=None,\n",
      "              learning_rate=0.1, loss='deviance', max_depth=4,\n",
      "              max_features=None, max_leaf_nodes=None,\n",
      "              min_impurity_decrease=0.0, min_impurity_split=None,\n",
      "              min_samples_leaf=50, min_samples_split=100,\n",
      "              min_weight_fraction_leaf=0.0, n_estimators=100,\n",
      "              presort='auto', random_state=None, subsample=0.5, verbose=0,\n",
      "              warm_start=False)\n",
      "Train score: 0.8492016222890554\n",
      "Test score: 0.8419585987261147\n"
     ]
    }
   ],
   "source": [
    "print(gscv.best_estimator_)\n",
    "cv_results = pd.DataFrame(gscv.cv_results_)\n",
    "print('Train score:', cv_results.loc[lambda d: d['rank_test_score'] == 1, 'mean_train_score'].values[0])\n",
    "print('Test score:', cv_results.loc[lambda d: d['rank_test_score'] == 1, 'mean_test_score'].values[0])"
   ]
  },
  {
   "cell_type": "markdown",
   "metadata": {},
   "source": [
    "Increase in Train and test score, to indicate model is more accurate"
   ]
  },
  {
   "cell_type": "code",
   "execution_count": 46,
   "metadata": {
    "scrolled": false
   },
   "outputs": [
    {
     "name": "stderr",
     "output_type": "stream",
     "text": [
      "/Users/adriansubagyo/anaconda3/lib/python3.6/site-packages/plotnine/utils.py:281: FutureWarning: Method .as_matrix will be removed in a future version. Use .values instead.\n",
      "  ndistinct = ids.apply(len_unique, axis=0).as_matrix()\n",
      "/Users/adriansubagyo/anaconda3/lib/python3.6/site-packages/pandas/core/generic.py:4384: FutureWarning: Attribute 'is_copy' is deprecated and will be removed in a future version.\n",
      "  object.__getattribute__(self, name)\n",
      "/Users/adriansubagyo/anaconda3/lib/python3.6/site-packages/pandas/core/generic.py:4385: FutureWarning: Attribute 'is_copy' is deprecated and will be removed in a future version.\n",
      "  return object.__setattr__(self, name, value)\n"
     ]
    },
    {
     "data": {
      "image/png": "[encoded data removed]",
      "text/plain": [
       "<Figure size 640x480 with 1 Axes>"
      ]
     },
     "metadata": {},
     "output_type": "display_data"
    },
    {
     "data": {
      "text/plain": [
       "<ggplot: (7530448392)>"
      ]
     },
     "execution_count": 46,
     "metadata": {},
     "output_type": "execute_result"
    }
   ],
   "source": [
    "pred = gscv.best_estimator_.predict(X_te)\n",
    "cm = confusion_matrix(y_te, pred)\n",
    "plot_confusion_matrix(cm, normalize=False)"
   ]
  },
  {
   "cell_type": "markdown",
   "metadata": {},
   "source": [
    "This model is more accurate as if putting Building Category (Resi / Commercial) as if its  into account.\n",
    "\"< 1M prediction would get 86% correct\" and 65% for\" >1M prediction.\" \n",
    "To conclude, model is improved. The biggest factor to to determine if a property is valued more or less than 1 Million  is from Borough, Land sqft, and property type (resi / commercial)."
   ]
  },
  {
   "cell_type": "code",
   "execution_count": null,
   "metadata": {},
   "outputs": [],
   "source": []
  }
 ],
 "metadata": {
  "kernelspec": {
   "display_name": "Python 3",
   "language": "python",
   "name": "python3"
  }
 },
 "nbformat": 4,
 "nbformat_minor": 2
}
